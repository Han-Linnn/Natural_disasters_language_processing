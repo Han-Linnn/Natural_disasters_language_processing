{
 "cells": [
  {
   "cell_type": "markdown",
   "id": "6ce1f91b-e99a-453f-9a60-40157743d220",
   "metadata": {},
   "source": [
    "Brane Script Import Packages"
   ]
  },
  {
   "cell_type": "code",
   "execution_count": null,
   "id": "5ff2ef0e-db2a-41e3-988c-a8a7de835090",
   "metadata": {},
   "outputs": [],
   "source": [
    "import data_processing\n",
    "import visualization\n",
    "import export_file"
   ]
  },
  {
   "cell_type": "markdown",
   "id": "2518ab52-a8db-49cb-9c8a-1accc8833f03",
   "metadata": {},
   "source": [
    "Automatically Duplication\n",
    "-copy local original data file to \"Data\" Directory under the File System"
   ]
  },
  {
   "cell_type": "code",
   "execution_count": null,
   "id": "6064ff52-c68a-4220-933d-b8b8e8826ad3",
   "metadata": {},
   "outputs": [],
   "source": [
    "export_file()"
   ]
  },
  {
   "cell_type": "markdown",
   "id": "95cd2e9d-e3ac-4c2a-86d9-3265a518cf80",
   "metadata": {},
   "source": [
    "Execution Pipeline\n",
    "-conduct Copmuting,Preprocessing and Visualization"
   ]
  },
  {
   "cell_type": "code",
   "execution_count": null,
   "id": "13db0d35-6d91-4f5e-8568-11a56f03ebfc",
   "metadata": {},
   "outputs": [],
   "source": [
    "let env_originData := '/data/train.csv'\n",
    "\n",
    "let csv_path = '/data'\n",
    "let output_path = '/data'\n",
    "\n",
    "data_processing(csv_path,output_path)\n",
    "res_vivisualization(csv_path,output_path)"
   ]
  }
 ],
 "metadata": {
  "kernelspec": {
   "display_name": "Python 3 (ipykernel)",
   "language": "python",
   "name": "python3"
  },
  "language_info": {
   "codemirror_mode": {
    "name": "ipython",
    "version": 3
   },
   "file_extension": ".py",
   "mimetype": "text/x-python",
   "name": "python",
   "nbconvert_exporter": "python",
   "pygments_lexer": "ipython3",
   "version": "3.8.10"
  }
 },
 "nbformat": 4,
 "nbformat_minor": 5
}
